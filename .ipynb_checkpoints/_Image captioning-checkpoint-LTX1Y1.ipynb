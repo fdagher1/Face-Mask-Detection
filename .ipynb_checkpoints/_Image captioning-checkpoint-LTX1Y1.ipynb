{
 "cells": [
  {
   "cell_type": "code",
   "execution_count": null,
   "id": "a0be8e48",
   "metadata": {},
   "outputs": [],
   "source": [
    "# using https://www.kaggle.com/hsankesara/image-captioning"
   ]
  },
  {
   "cell_type": "code",
   "execution_count": null,
   "id": "62871f3a",
   "metadata": {},
   "outputs": [],
   "source": [
    "import os\n",
    "train_images_list = os.listdir('C:/Users/u1/Desktop/archive/')\n"
   ]
  }
 ],
 "metadata": {
  "kernelspec": {
   "display_name": "Python 3",
   "language": "python",
   "name": "python3"
  },
  "language_info": {
   "codemirror_mode": {
    "name": "ipython",
    "version": 3
   },
   "file_extension": ".py",
   "mimetype": "text/x-python",
   "name": "python",
   "nbconvert_exporter": "python",
   "pygments_lexer": "ipython3",
   "version": "3.9.3"
  }
 },
 "nbformat": 4,
 "nbformat_minor": 5
}
